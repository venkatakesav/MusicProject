{
 "cells": [
  {
   "cell_type": "code",
   "execution_count": 1,
   "metadata": {},
   "outputs": [],
   "source": [
    "import json"
   ]
  },
  {
   "cell_type": "code",
   "execution_count": 2,
   "metadata": {},
   "outputs": [],
   "source": [
    "def read_ragas_from_file(file_path):\n",
    "    ragas = {}\n",
    "    raga_names = ['kanakangi', 'rathnangi', 'ganamurthi', 'vanaspathi', 'manavathi', 'thanarupi', 'senavathi', 'hanumathodi', 'natakapriya', 'kokilapriya', 'rupavathi', 'gayakapriya', 'vakulabharanam', 'mayamalavagowla', 'chakravakam', 'suryakantam', 'hatakambari', 'jankaradhvani', 'natabhairavi', 'kiravani', 'karaharapriya', 'gowrimanohari', 'varunapriya', 'mararanjani', 'charukeshi', 'sarasangi', 'harikambhoji', 'dhirashankarabharanam', 'naganandini', 'yagapriya', 'ragavardhani', 'gangeyabhushani', 'vagadhishvari', 'shulini', 'chalanata', 'salagam', 'jalarnavam', 'jalavarali', 'navanitham', 'pavani', 'ragupriya', 'gavambodhi', 'bhavapriya', 'shubhapantuvarali', 'shadhvidhamargini', 'suvarnangi', 'divyamani', 'dhavalambari', 'namanarayani', 'kamavardhini', 'ramapriya', 'gamanashrama', 'vishvambhari', 'shyamalangi', 'shanmukhapriya', 'simhendramadhyamam', 'hemavathi', 'dharmavathi', 'nithimathi', 'kanthamani', 'rishabhapriya', 'lathangi', 'vachaspati', 'mechakalyani', 'chitrambari', 'sucharithra', 'jyothisvarupini', 'dhatuvardhani', 'nasikabhushani', 'kosalam', 'rasikapriya']\n",
    "    print(len(raga_names))\n",
    "    a=0\n",
    "    with open(file_path, 'r') as file:\n",
    "        for line in file:\n",
    "            parts = line.strip().split('|')\n",
    "            parts[1] = parts[1].strip()\n",
    "            parts[2] = parts[2].strip()\n",
    "            raga_name = parts[1].strip()\n",
    "            if(a==71):\n",
    "                break\n",
    "            raga_name=raga_names[a]\n",
    "            a+=1\n",
    "            swaras = parts[2].strip().split()\n",
    "            for i in range(len(swaras)):\n",
    "                # print(swaras[i])\n",
    "                if swaras[i]=='S':\n",
    "                    swaras[i]='Sa'\n",
    "                elif swaras[i][0]=='R':\n",
    "                    swaras[i]='Ri'+swaras[i][1]\n",
    "                elif swaras[i][0]=='G':\n",
    "                    swaras[i]='Ga'+swaras[i][1]\n",
    "                elif swaras[i][0]=='M':\n",
    "                    swaras[i]='Ma'+swaras[i][1]\n",
    "                elif swaras[i]=='P':\n",
    "                    swaras[i]='Pa'\n",
    "                elif swaras[i][0]=='D':\n",
    "                    swaras[i]='Dha'+swaras[i][1]\n",
    "                elif swaras[i][0]=='N':\n",
    "                    swaras[i]='Ni'+swaras[i][1]\n",
    "            ragas[raga_name] = \" \".join(swaras)\n",
    "    return ragas"
   ]
  },
  {
   "cell_type": "code",
   "execution_count": 3,
   "metadata": {},
   "outputs": [
    {
     "name": "stdout",
     "output_type": "stream",
     "text": [
      "71\n",
      "dict_keys(['kanakangi', 'rathnangi', 'ganamurthi', 'vanaspathi', 'manavathi', 'thanarupi', 'senavathi', 'hanumathodi', 'natakapriya', 'kokilapriya', 'rupavathi', 'gayakapriya', 'vakulabharanam', 'mayamalavagowla', 'chakravakam', 'suryakantam', 'hatakambari', 'jankaradhvani', 'natabhairavi', 'kiravani', 'karaharapriya', 'gowrimanohari', 'varunapriya', 'mararanjani', 'charukeshi', 'sarasangi', 'harikambhoji', 'dhirashankarabharanam', 'naganandini', 'yagapriya', 'ragavardhani', 'gangeyabhushani', 'vagadhishvari', 'shulini', 'chalanata', 'salagam', 'jalarnavam', 'jalavarali', 'navanitham', 'pavani', 'ragupriya', 'gavambodhi', 'bhavapriya', 'shubhapantuvarali', 'shadhvidhamargini', 'suvarnangi', 'divyamani', 'dhavalambari', 'namanarayani', 'kamavardhini', 'ramapriya', 'gamanashrama', 'vishvambhari', 'shyamalangi', 'shanmukhapriya', 'simhendramadhyamam', 'hemavathi', 'dharmavathi', 'nithimathi', 'kanthamani', 'rishabhapriya', 'lathangi', 'vachaspati', 'mechakalyani', 'chitrambari', 'sucharithra', 'jyothisvarupini', 'dhatuvardhani', 'nasikabhushani', 'kosalam', 'rasikapriya'])\n",
      "dict_values(['Sa Ri1 Ga1 Ma1 Pa Dha1 Ni1', 'Sa Ri1 Ga1 Ma1 Pa Dha1 Ni2', 'Sa Ri1 Ga1 Ma1 Pa Dha1 Ni3', 'Sa Ri1 Ga1 Ma1 Pa Dha2 Ni2', 'Sa Ri1 Ga1 Ma1 Pa Dha2 Ni3', 'Sa Ri1 Ga1 Ma1 Pa Dha3 Ni3', 'Sa Ri1 Ga2 Ma1 Pa Dha1 Ni1', 'Sa Ri1 Ga2 Ma1 Pa Dha1 Ni2', 'Sa Ri1 Ga2 Ma1 Pa Dha2 Ni2', 'Sa Ri1 Ga2 Ma1 Pa Dha2 Ni3', 'Sa Ri1 Ga2 Ma1 Pa Dha3 Ni3', 'Sa Ri1 Ga3 Ma1 Pa Dha1 Ni1', 'Sa Ri1 Ga3 Ma1 Pa Dha1 Ni2', 'Sa Ri1 Ga3 Ma1 Pa Dha1 Ni3', 'Sa Ri1 Ga3 Ma1 Pa Dha2 Ni2', 'Sa Ri1 Ga3 Ma1 Pa Dha2 Ni3', 'Sa Ri1 Ga3 Ma1 Pa Dha3 Ni3', 'Sa Ri2 Ga2 Ma1 Pa Dha1 Ni1', 'Sa Ri2 Ga2 Ma1 Pa Dha1 Ni1', 'Sa Ri2 Ga2 Ma1 Pa Dha1 Ni2', 'Sa Ri2 Ga2 Ma1 Pa Dha1 Ni3', 'Sa Ri2 Ga2 Ma1 Pa Dha2 Ni2', 'Sa Ri2 Ga2 Ma1 Pa Dha2 Ni3', 'Sa Ri2 Ga2 Ma1 Pa Dha3 Ni3', 'Sa Ri2 Ga3 Ma1 Pa Dha1 Ni1', 'Sa Ri2 Ga3 Ma1 Pa Dha1 Ni2', 'Sa Ri2 Ga3 Ma1 Pa Dha1 Ni3', 'Sa Ri2 Ga3 Ma1 Pa Dha2 Ni2', 'Sa Ri2 Ga3 Ma1 Pa Dha2 Ni3', 'Sa Ri2 Ga3 Ma1 Pa Dha3 Ni3', 'Sa Ri3 Ga3 Ma1 Pa Dha1 Ni1', 'Sa Ri3 Ga3 Ma1 Pa Dha1 Ni2', 'Sa Ri3 Ga3 Ma1 Pa Dha1 Ni3', 'Sa Ri3 Ga3 Ma1 Pa Dha2 Ni2', 'Sa Ri3 Ga3 Ma1 Pa Dha2 Ni3', 'Sa Ri3 Ga3 Ma1 Pa Dha3 Ni3', 'Sa Ri1 Ga1 Ma2 Pa Dha1 Ni1', 'Sa Ri1 Ga1 Ma2 Pa Dha1 Ni2', 'Sa Ri1 Ga1 Ma2 Pa Dha1 Ni3', 'Sa Ri1 Ga1 Ma2 Pa Dha2 Ni2', 'Sa Ri1 Ga1 Ma2 Pa Dha2 Ni3', 'Sa Ri1 Ga1 Ma2 Pa Dha3 Ni3', 'Sa Ri1 Ga2 Ma2 Pa Dha1 Ni1', 'Sa Ri1 Ga2 Ma2 Pa Dha1 Ni2', 'Sa Ri1 Ga2 Ma2 Pa Dha1 Ni3', 'Sa Ri1 Ga2 Ma2 Pa Dha2 Ni2', 'Sa Ri1 Ga2 Ma2 Pa Dha2 Ni3', 'Sa Ri1 Ga2 Ma2 Pa Dha3 Ni3', 'Sa Ri1 Ga3 Ma2 Pa Dha1 Ni1', 'Sa Ri1 Ga3 Ma2 Pa Dha1 Ni2', 'Sa Ri1 Ga3 Ma2 Pa Dha1 Ni3', 'Sa Ri1 Ga3 Ma2 Pa Dha2 Ni2', 'Sa Ri1 Ga3 Ma2 Pa Dha2 Ni3', 'Sa Ri1 Ga3 Ma2 Pa Dha3 Ni3', 'Sa Ri2 Ga2 Ma2 Pa Dha1 Ni1', 'Sa Ri2 Ga2 Ma2 Pa Dha1 Ni2', 'Sa Ri2 Ga2 Ma2 Pa Dha1 Ni3', 'Sa Ri2 Ga2 Ma2 Pa Dha2 Ni2', 'Sa Ri2 Ga2 Ma2 Pa Dha2 Ni3', 'Sa Ri2 Ga2 Ma2 Pa Dha3 Ni3', 'Sa Ri2 Ga3 Ma2 Pa Dha1 Ni1', 'Sa Ri2 Ga3 Ma2 Pa Dha1 Ni2', 'Sa Ri2 Ga3 Ma2 Pa Dha1 Ni3', 'Sa Ri2 Ga3 Ma2 Pa Dha2 Ni2', 'Sa Ri2 Ga3 Ma2 Pa Dha2 Ni3', 'Sa Ri2 Ga3 Ma2 Pa Dha3 Ni3', 'Sa Ri3 Ga3 Ma2 Pa Dha1 Ni1', 'Sa Ri3 Ga3 Ma2 Pa Dha1 Ni2', 'Sa Ri3 Ga3 Ma2 Pa Dha1 Ni3', 'Sa Ri3 Ga3 Ma2 Pa Dha2 Ni2', 'Sa Ri3 Ga3 Ma2 Pa Dha2 Ni3'])\n"
     ]
    }
   ],
   "source": [
    "file_path = \"raga_swara.txt\"  # Replace with the actual file path\n",
    "arohana = read_ragas_from_file(file_path)\n",
    "with open(\"arohan_swara.json\",\"w\") as f:\n",
    "    json.dump(arohana,f,indent=4)\n",
    "amsa_swara=\"Pa\"\n",
    "print(arohana.keys())\n",
    "print(arohana.values())"
   ]
  },
  {
   "cell_type": "code",
   "execution_count": 3,
   "metadata": {},
   "outputs": [],
   "source": []
  },
  {
   "cell_type": "code",
   "execution_count": null,
   "metadata": {},
   "outputs": [],
   "source": []
  }
 ],
 "metadata": {
  "kernelspec": {
   "display_name": "Python 3",
   "language": "python",
   "name": "python3"
  },
  "language_info": {
   "codemirror_mode": {
    "name": "ipython",
    "version": 3
   },
   "file_extension": ".py",
   "mimetype": "text/x-python",
   "name": "python",
   "nbconvert_exporter": "python",
   "pygments_lexer": "ipython3",
   "version": "3.10.12"
  }
 },
 "nbformat": 4,
 "nbformat_minor": 2
}

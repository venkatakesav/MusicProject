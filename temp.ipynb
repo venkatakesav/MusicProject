{
 "cells": [
  {
   "cell_type": "code",
   "execution_count": 9,
   "metadata": {},
   "outputs": [],
   "source": [
    "# def map_shorthand_swaras(swaras,raga):\n",
    "#     for i,swara in enumerate(swaras):\n",
    "#         #get index of substring swara in raga\n",
    "#         index = raga.find(swara)\n",
    "#         if(swara!=\"Pa\" and swara!=\"Dha\"):\n",
    "#             num = raga[index+2:index+3]\n",
    "#             print(swara,num)    \n",
    "#             swaras[i] = swara+num\n",
    "#         elif(swara==\"Dha\"):    \n",
    "#             num = raga[index+3:index+4]\n",
    "#             print(swara,num)    \n",
    "#             swaras[i] = swara+num\n",
    "#     return swaras\n",
    "#     shorthand_to_full = {\n",
    "#         'Ri': 'Ri1',\n",
    "#         'Ga': 'Ga3',\n",
    "#         'Ma': 'Ma1',\n",
    "#         'Dha': 'Dha1',\n",
    "#         'Ni': 'Ni3'\n",
    "#     }\n",
    "#     return [shorthand_to_full.get(swara, swara) for swara in swaras]"
   ]
  },
  {
   "cell_type": "code",
   "execution_count": null,
   "metadata": {},
   "outputs": [],
   "source": []
  },
  {
   "cell_type": "code",
   "execution_count": 10,
   "metadata": {},
   "outputs": [],
   "source": [
    "# import json\n",
    "\n",
    "# with open(\"arohan_swara.json\",\"r\") as f:\n",
    "#     arohana=json.load(f)\n",
    "# raga = \"mayamalavagowla\"\n",
    "# swaras=['Ri', 'Ma', 'Dha', 'Pa', 'Ga', 'Dha', 'Pa', 'Ga', 'Ma', 'Pa', 'Ma', 'Dha', 'Ni', 'Pa', 'Sa', 'Ni', 'Pa', 'Dha', 'Ni', 'Pa', 'Ri', 'Ga', 'Pa', 'Ga', 'Ma', 'Ni', 'Pa', 'Dha', 'Ni', 'Pa', 'Pa', 'Ga', 'Ni', 'Pa', 'Ri', 'Ni', 'Pa', 'Pa', 'Ga', 'Ma', 'Dha', 'Pa', 'Ga', 'Ma', 'Pa', 'Ma', 'Dha', 'Ni', 'Pa', 'Dha', 'Ni', 'Pa', 'Ri', 'Ma', 'Pa', 'Pa']\n",
    "# map_shorthand_swaras(swaras,arohana[raga])"
   ]
  },
  {
   "cell_type": "code",
   "execution_count": 11,
   "metadata": {},
   "outputs": [],
   "source": [
    "# swara_freq = {\n",
    "#     'Sa': 260.29, 'Ri1': 277.84, 'Ri2':293.08, 'Ga1': 293.08, 'Ri3':309.66, 'Ga2': 309.66,\n",
    "#     'Ga3': 330.28, 'Ma1': 346.90, 'Ma2': 372.19, 'Pa': 390.61,\n",
    "#     'Dha1': 414.82, 'Dha2':440.00, 'Ni1': 440.00, 'Dha3':462.33, 'Ni2': 462.33, 'Ni3': 495.84\n",
    "# }\n",
    "# with open(\"swara_freq.json\",\"w\") as f:\n",
    "#     json.dump(swara_freq,f,indent=2)"
   ]
  },
  {
   "cell_type": "code",
   "execution_count": 12,
   "metadata": {},
   "outputs": [],
   "source": [
    "# alphabet_swara={\n",
    "#     \"mayamalavagowla\": {\n",
    "#         'A': 'Ma Dha', 'B': 'Ri Dha Ni', 'C': 'Sa Ma', 'D': 'Ri Ga',\n",
    "#         'E': 'Dha Ni', 'F': 'Sa Ri', 'G': 'Ga Ma Ni', 'H': 'Ri Dha',\n",
    "#         'I': 'Ga Ni', 'J': 'Ri Ga Dha', 'K': 'Ri Ma Dha', 'L': 'Sa Ni',\n",
    "#         'M': 'Sa Ga', 'N': 'Ga Dha', 'O': 'Ga Ma', 'P': 'Ga Ma Dha',\n",
    "#         'Q': 'Ri Ga Ni', 'R': 'Ri Ma', 'S': 'Ri Ni', 'T': 'Ma Ni',\n",
    "#         'U': 'Sa Dha', 'V': 'Ri Ma Ni', 'W': 'Ma Dha Ni', 'X': 'Ri Ga Ma',\n",
    "#         'Y': 'Ga Dha Ni', 'Z': 'Sa Ma Ni', ' ': 'Pa Pa'\n",
    "#     }\n",
    "# }\n",
    "# with open(\"alphabet_swara.json\",\"w\") as f:\n",
    "#     json.dump(alphabet_swara,f,indent=4)"
   ]
  },
  {
   "cell_type": "code",
   "execution_count": 13,
   "metadata": {},
   "outputs": [],
   "source": [
    "import json\n",
    "from tqdm import tqdm"
   ]
  },
  {
   "cell_type": "code",
   "execution_count": 14,
   "metadata": {},
   "outputs": [],
   "source": [
    "with open(\"arohan_swara.json\",\"r\") as f:\n",
    "    arohana_swara=json.load(f)\n",
    "\n",
    "# for raga in tqdm(arohana_swara.keys()):\n",
    "#     print(raga)"
   ]
  },
  {
   "cell_type": "code",
   "execution_count": 15,
   "metadata": {},
   "outputs": [
    {
     "name": "stdout",
     "output_type": "stream",
     "text": [
      "['A', 'C', 'D', 'E', 'F', 'H', 'I', 'L', 'M', 'N', 'O', 'R', 'S', 'T', 'U']\n",
      "['B', 'G', 'J', 'K', 'P', 'Q', 'V', 'W', 'X', 'Y', 'Z']\n"
     ]
    }
   ],
   "source": [
    "alphabet_swara = {\"A\": \"Ma Dha\",\n",
    "        \"B\": \"Ri Dha Ni\",\n",
    "        \"C\": \"Sa Ma\",\n",
    "        \"D\": \"Ri Ga\",\n",
    "        \"E\": \"Dha Ni\",\n",
    "        \"F\": \"Sa Ri\",\n",
    "        \"G\": \"Ga Ma Ni\",\n",
    "        \"H\": \"Ri Dha\",\n",
    "        \"I\": \"Ga Ni\",\n",
    "        \"J\": \"Ri Ga Dha\",\n",
    "        \"K\": \"Ri Ma Dha\",\n",
    "        \"L\": \"Sa Ni\",\n",
    "        \"M\": \"Sa Ga\",\n",
    "        \"N\": \"Ga Dha\",\n",
    "        \"O\": \"Ga Ma\",\n",
    "        \"P\": \"Ga Ma Dha\",\n",
    "        \"Q\": \"Ri Ga Ni\",\n",
    "        \"R\": \"Ri Ma\",\n",
    "        \"S\": \"Ri Ni\",\n",
    "        \"T\": \"Ma Ni\",\n",
    "        \"U\": \"Sa Dha\",\n",
    "        \"V\": \"Ri Ma Ni\",\n",
    "        \"W\": \"Ma Dha Ni\",\n",
    "        \"X\": \"Ri Ga Ma\",\n",
    "        \"Y\": \"Ga Dha Ni\",\n",
    "        \"Z\": \"Sa Ma Ni\"}\n",
    "two_list=[]\n",
    "three_list=[]\n",
    "for swara in alphabet_swara.keys():\n",
    "    if len(alphabet_swara[swara].split())==2:\n",
    "        two_list.append(swara)\n",
    "    else:\n",
    "        three_list.append(swara)\n",
    "print(two_list) # ['A', 'C', 'D', 'E', 'F', 'H', 'I', 'L', 'M', 'N', 'O', 'R', 'S', 'T', 'U']\n",
    "print(three_list) # ['B', 'G', 'J', 'K', 'P', 'Q', 'V', 'W', 'X', 'Y', 'Z']"
   ]
  },
  {
   "cell_type": "code",
   "execution_count": 16,
   "metadata": {},
   "outputs": [
    {
     "name": "stdout",
     "output_type": "stream",
     "text": [
      "15 [['Sa', 'Ri'], ['Sa', 'Ga'], ['Sa', 'Ma'], ['Sa', 'Dha'], ['Sa', 'Ni'], ['Ri', 'Ga'], ['Ri', 'Ma'], ['Ri', 'Dha'], ['Ri', 'Ni'], ['Ga', 'Ma'], ['Ga', 'Dha'], ['Ga', 'Ni'], ['Ma', 'Dha'], ['Ma', 'Ni'], ['Dha', 'Ni']]\n",
      "20 [['Sa', 'Ri', 'Ga'], ['Sa', 'Ri', 'Ma'], ['Sa', 'Ri', 'Dha'], ['Sa', 'Ri', 'Ni'], ['Sa', 'Ga', 'Ma'], ['Sa', 'Ga', 'Dha'], ['Sa', 'Ga', 'Ni'], ['Sa', 'Ma', 'Dha'], ['Sa', 'Ma', 'Ni'], ['Sa', 'Dha', 'Ni'], ['Ri', 'Ga', 'Ma'], ['Ri', 'Ga', 'Dha'], ['Ri', 'Ga', 'Ni'], ['Ri', 'Ma', 'Dha'], ['Ri', 'Ma', 'Ni'], ['Ri', 'Dha', 'Ni'], ['Ga', 'Ma', 'Dha'], ['Ga', 'Ma', 'Ni'], ['Ga', 'Dha', 'Ni'], ['Ma', 'Dha', 'Ni']]\n"
     ]
    }
   ],
   "source": [
    "two_list = ['A', 'C', 'D', 'E', 'F', 'H', 'I', 'L', 'M', 'N', 'O', 'R', 'S', 'T', 'U']\n",
    "three_list = ['B', 'G', 'J', 'K', 'P', 'Q', 'V', 'W', 'X', 'Y', 'Z']\n",
    "\n",
    "swaras = ['Sa', 'Ri', 'Ga', 'Ma', 'Dha', 'Ni']\n",
    "\n",
    "all_possible_two_comb = []\n",
    "for i in range(0,len(swaras)):\n",
    "    for j in range(i+1,len(swaras)):\n",
    "        all_possible_two_comb.append([swaras[i],swaras[j]])\n",
    "print(len(all_possible_two_comb),all_possible_two_comb)\n",
    "\n",
    "all_possible_three_comb = []\n",
    "for i in range(0,len(swaras)):\n",
    "    for j in range(i+1,len(swaras)):\n",
    "        for k in range(j+1,len(swaras)):\n",
    "            all_possible_three_comb.append([swaras[i],swaras[j],swaras[k]])\n",
    "print(len(all_possible_three_comb),all_possible_three_comb)"
   ]
  },
  {
   "cell_type": "code",
   "execution_count": 21,
   "metadata": {},
   "outputs": [
    {
     "name": "stdout",
     "output_type": "stream",
     "text": [
      "[[4, 13, 9, 3, 14, 6, 0, 8, 10, 11, 7, 5, 2, 12, 1], [6, 5, 7, 11, 0, 10, 3, 12, 8, 2, 14, 4, 13, 9, 1], [5, 12, 11, 4, 6, 3, 8, 14, 2, 1, 9, 7, 13, 10, 0], [3, 8, 4, 7, 12, 0, 6, 9, 14, 2, 11, 13, 10, 5, 1], [6, 5, 12, 9, 7, 2, 10, 3, 0, 8, 4, 11, 14, 1, 13], [8, 3, 9, 0, 13, 7, 5, 6, 2, 12, 4, 14, 10, 11, 1], [4, 11, 3, 1, 10, 5, 14, 8, 2, 6, 0, 9, 12, 13, 7], [6, 8, 2, 9, 3, 4, 12, 11, 5, 7, 10, 13, 1, 0, 14], [9, 4, 12, 6, 0, 10, 5, 7, 1, 3, 14, 11, 2, 13, 8], [8, 1, 9, 13, 7, 2, 11, 5, 14, 4, 3, 10, 6, 12, 0]]\n",
      "[[7, 19, 18, 10, 16, 1, 4, 14, 9, 12, 11, 3, 0, 15, 13, 17, 2, 8, 6, 5], [2, 13, 0, 4, 16, 14, 10, 3, 18, 8, 6, 5, 15, 19, 1, 17, 7, 12, 9, 11], [5, 4, 16, 19, 6, 11, 0, 13, 8, 1, 9, 10, 2, 18, 15, 17, 7, 14, 12, 3], [13, 10, 6, 3, 17, 15, 1, 2, 12, 19, 14, 0, 7, 5, 9, 4, 8, 18, 16, 11], [8, 16, 13, 0, 6, 5, 3, 7, 9, 19, 17, 11, 12, 14, 10, 1, 15, 2, 4, 18], [17, 15, 19, 13, 11, 0, 2, 10, 5, 4, 18, 14, 7, 3, 12, 16, 9, 6, 8, 1], [15, 9, 11, 5, 14, 2, 0, 4, 16, 1, 6, 10, 17, 3, 12, 19, 18, 13, 7, 8], [14, 6, 3, 10, 15, 1, 11, 4, 16, 13, 9, 12, 2, 8, 19, 18, 0, 7, 5, 17], [14, 1, 2, 4, 7, 18, 3, 19, 6, 17, 13, 0, 12, 5, 10, 8, 11, 9, 15, 16], [7, 17, 4, 0, 16, 1, 10, 5, 13, 11, 3, 6, 15, 2, 8, 14, 19, 18, 12, 9]]\n"
     ]
    }
   ],
   "source": [
    "#generate 10 random sequences of length 15 .each sequence must have numbers from 0 to 14 (both included) only\n",
    "import random\n",
    "random_two_list=[]\n",
    "for i in range(10):\n",
    "    random_two_list.append(random.sample(range(15),15))\n",
    "random_three_list=[]\n",
    "for i in range(10):\n",
    "    random_three_list.append(random.sample(range(20),20))\n",
    "print(random_two_list)\n",
    "print(random_three_list)"
   ]
  },
  {
   "cell_type": "markdown",
   "metadata": {},
   "source": [
    "Here's a markdown table for the swara frequency mapping:\n",
    "\n",
    "| Swara | Frequency (Hz) |\n",
    "|---|---|\n",
    "| Sa | 260.29 |\n",
    "| Ri1 | 277.84 |\n",
    "| Ri2 | 293.08 |\n",
    "| Ga1 | 293.08 |\n",
    "| Ri3 | 309.66 |\n",
    "| Ga2 | 309.66 |\n",
    "| Ga3 | 330.28 |\n",
    "| Ma1 | 346.9 |\n",
    "| Ma2 | 372.19 |\n",
    "| Pa | 390.61 |\n",
    "| Dha1 | 414.82 |\n",
    "| Dha2 | 440.0 |\n",
    "| Ni1 | 440.0 |\n",
    "| Dha3 | 462.33 |\n",
    "| Ni2 | 462.33 |\n",
    "| Ni3 | 495.84 |\n"
   ]
  },
  {
   "cell_type": "code",
   "execution_count": null,
   "metadata": {},
   "outputs": [],
   "source": []
  }
 ],
 "metadata": {
  "kernelspec": {
   "display_name": "Python 3",
   "language": "python",
   "name": "python3"
  },
  "language_info": {
   "codemirror_mode": {
    "name": "ipython",
    "version": 3
   },
   "file_extension": ".py",
   "mimetype": "text/x-python",
   "name": "python",
   "nbconvert_exporter": "python",
   "pygments_lexer": "ipython3",
   "version": "3.10.12"
  }
 },
 "nbformat": 4,
 "nbformat_minor": 2
}

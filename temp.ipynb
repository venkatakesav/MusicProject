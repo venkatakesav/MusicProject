{
 "cells": [
  {
   "cell_type": "code",
   "execution_count": 11,
   "metadata": {},
   "outputs": [],
   "source": [
    "def map_shorthand_swaras(swaras,raga):\n",
    "    for i,swara in enumerate(swaras):\n",
    "        #get index of substring swara in raga\n",
    "        index = raga.find(swara)\n",
    "        if(swara!=\"Pa\" and swara!=\"Dha\"):\n",
    "            num = raga[index+2:index+3]\n",
    "            print(swara,num)    \n",
    "            swaras[i] = swara+num\n",
    "        elif(swara==\"Dha\"):    \n",
    "            num = raga[index+3:index+4]\n",
    "            print(swara,num)    \n",
    "            swaras[i] = swara+num\n",
    "    return swaras\n",
    "    shorthand_to_full = {\n",
    "        'Ri': 'Ri1',\n",
    "        'Ga': 'Ga3',\n",
    "        'Ma': 'Ma1',\n",
    "        'Dha': 'Dha1',\n",
    "        'Ni': 'Ni3'\n",
    "    }\n",
    "    return [shorthand_to_full.get(swara, swara) for swara in swaras]"
   ]
  },
  {
   "cell_type": "code",
   "execution_count": null,
   "metadata": {},
   "outputs": [],
   "source": []
  },
  {
   "cell_type": "code",
   "execution_count": 12,
   "metadata": {},
   "outputs": [
    {
     "name": "stdout",
     "output_type": "stream",
     "text": [
      "Sa Ri1 Ga3 Ma1 Pa Dha1 Ni3\n",
      "Ri 1\n",
      "Ma 1\n",
      "Dha 1\n",
      "Ga 3\n",
      "Dha 1\n",
      "Ga 3\n",
      "Ma 1\n",
      "Ma 1\n",
      "Dha 1\n",
      "Ni 3\n",
      "Sa  \n",
      "Ni 3\n",
      "Dha 1\n",
      "Ni 3\n",
      "Ri 1\n",
      "Ga 3\n",
      "Ga 3\n",
      "Ma 1\n",
      "Ni 3\n",
      "Dha 1\n",
      "Ni 3\n",
      "Ga 3\n",
      "Ni 3\n",
      "Ri 1\n",
      "Ni 3\n",
      "Ga 3\n",
      "Ma 1\n",
      "Dha 1\n",
      "Ga 3\n",
      "Ma 1\n",
      "Ma 1\n",
      "Dha 1\n",
      "Ni 3\n",
      "Dha 1\n",
      "Ni 3\n",
      "Ri 1\n",
      "Ma 1\n"
     ]
    },
    {
     "data": {
      "text/plain": [
       "['Ri1',\n",
       " 'Ma1',\n",
       " 'Dha1',\n",
       " 'Pa',\n",
       " 'Ga3',\n",
       " 'Dha1',\n",
       " 'Pa',\n",
       " 'Ga3',\n",
       " 'Ma1',\n",
       " 'Pa',\n",
       " 'Ma1',\n",
       " 'Dha1',\n",
       " 'Ni3',\n",
       " 'Pa',\n",
       " 'Sa ',\n",
       " 'Ni3',\n",
       " 'Pa',\n",
       " 'Dha1',\n",
       " 'Ni3',\n",
       " 'Pa',\n",
       " 'Ri1',\n",
       " 'Ga3',\n",
       " 'Pa',\n",
       " 'Ga3',\n",
       " 'Ma1',\n",
       " 'Ni3',\n",
       " 'Pa',\n",
       " 'Dha1',\n",
       " 'Ni3',\n",
       " 'Pa',\n",
       " 'Pa',\n",
       " 'Ga3',\n",
       " 'Ni3',\n",
       " 'Pa',\n",
       " 'Ri1',\n",
       " 'Ni3',\n",
       " 'Pa',\n",
       " 'Pa',\n",
       " 'Ga3',\n",
       " 'Ma1',\n",
       " 'Dha1',\n",
       " 'Pa',\n",
       " 'Ga3',\n",
       " 'Ma1',\n",
       " 'Pa',\n",
       " 'Ma1',\n",
       " 'Dha1',\n",
       " 'Ni3',\n",
       " 'Pa',\n",
       " 'Dha1',\n",
       " 'Ni3',\n",
       " 'Pa',\n",
       " 'Ri1',\n",
       " 'Ma1',\n",
       " 'Pa',\n",
       " 'Pa']"
      ]
     },
     "execution_count": 12,
     "metadata": {},
     "output_type": "execute_result"
    }
   ],
   "source": [
    "import json\n",
    "\n",
    "with open(\"arohan_swara.json\",\"r\") as f:\n",
    "    arohana=json.load(f)\n",
    "raga = \"mayamalavagowla\"\n",
    "swaras=['Ri', 'Ma', 'Dha', 'Pa', 'Ga', 'Dha', 'Pa', 'Ga', 'Ma', 'Pa', 'Ma', 'Dha', 'Ni', 'Pa', 'Sa', 'Ni', 'Pa', 'Dha', 'Ni', 'Pa', 'Ri', 'Ga', 'Pa', 'Ga', 'Ma', 'Ni', 'Pa', 'Dha', 'Ni', 'Pa', 'Pa', 'Ga', 'Ni', 'Pa', 'Ri', 'Ni', 'Pa', 'Pa', 'Ga', 'Ma', 'Dha', 'Pa', 'Ga', 'Ma', 'Pa', 'Ma', 'Dha', 'Ni', 'Pa', 'Dha', 'Ni', 'Pa', 'Ri', 'Ma', 'Pa', 'Pa']\n",
    "map_shorthand_swaras(swaras,arohana[raga])"
   ]
  },
  {
   "cell_type": "code",
   "execution_count": 14,
   "metadata": {},
   "outputs": [],
   "source": [
    "swara_freq = {\n",
    "    'Sa': 260.29, 'Ri1': 277.84, 'Ri2':293.08, 'Ga1': 293.08, 'Ri3':309.66, 'Ga2': 309.66,\n",
    "    'Ga3': 330.28, 'Ma1': 346.90, 'Ma2': 372.19, 'Pa': 390.61,\n",
    "    'Dha1': 414.82, 'Dha2':440.00, 'Ni1': 440.00, 'Dha3':462.33, 'Ni2': 462.33, 'Ni3': 495.84\n",
    "}\n",
    "with open(\"swara_freq.json\",\"w\") as f:\n",
    "    json.dump(swara_freq,f,indent=2)"
   ]
  },
  {
   "cell_type": "code",
   "execution_count": 13,
   "metadata": {},
   "outputs": [],
   "source": [
    "alphabet_swara={\n",
    "    \"mayamalavagowla\": {\n",
    "        'A': 'Ma Dha', 'B': 'Ri Dha Ni', 'C': 'Sa Ma', 'D': 'Ri Ga',\n",
    "        'E': 'Dha Ni', 'F': 'Sa Ri', 'G': 'Ga Ma Ni', 'H': 'Ri Dha',\n",
    "        'I': 'Ga Ni', 'J': 'Ri Ga Dha', 'K': 'Ri Ma Dha', 'L': 'Sa Ni',\n",
    "        'M': 'Sa Ga', 'N': 'Ga Dha', 'O': 'Ga Ma', 'P': 'Ga Ma Dha',\n",
    "        'Q': 'Ri Ga Ni', 'R': 'Ri Ma', 'S': 'Ri Ni', 'T': 'Ma Ni',\n",
    "        'U': 'Sa Dha', 'V': 'Ri Ma Ni', 'W': 'Ma Dha Ni', 'X': 'Ri Ga Ma',\n",
    "        'Y': 'Ga Dha Ni', 'Z': 'Sa Ma Ni', ' ': 'Pa Pa'\n",
    "    }\n",
    "}\n",
    "with open(\"alphabet_swara.json\",\"w\") as f:\n",
    "    json.dump(alphabet_swara,f,indent=4)"
   ]
  },
  {
   "cell_type": "code",
   "execution_count": null,
   "metadata": {},
   "outputs": [],
   "source": []
  }
 ],
 "metadata": {
  "kernelspec": {
   "display_name": "Python 3",
   "language": "python",
   "name": "python3"
  },
  "language_info": {
   "codemirror_mode": {
    "name": "ipython",
    "version": 3
   },
   "file_extension": ".py",
   "mimetype": "text/x-python",
   "name": "python",
   "nbconvert_exporter": "python",
   "pygments_lexer": "ipython3",
   "version": "3.10.12"
  }
 },
 "nbformat": 4,
 "nbformat_minor": 2
}

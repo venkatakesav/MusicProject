{
 "cells": [
  {
   "cell_type": "code",
   "execution_count": 1,
   "metadata": {},
   "outputs": [],
   "source": [
    "# def map_shorthand_swaras(swaras,raga):\n",
    "#     for i,swara in enumerate(swaras):\n",
    "#         #get index of substring swara in raga\n",
    "#         index = raga.find(swara)\n",
    "#         if(swara!=\"Pa\" and swara!=\"Dha\"):\n",
    "#             num = raga[index+2:index+3]\n",
    "#             print(swara,num)    \n",
    "#             swaras[i] = swara+num\n",
    "#         elif(swara==\"Dha\"):    \n",
    "#             num = raga[index+3:index+4]\n",
    "#             print(swara,num)    \n",
    "#             swaras[i] = swara+num\n",
    "#     return swaras\n",
    "#     shorthand_to_full = {\n",
    "#         'Ri': 'Ri1',\n",
    "#         'Ga': 'Ga3',\n",
    "#         'Ma': 'Ma1',\n",
    "#         'Dha': 'Dha1',\n",
    "#         'Ni': 'Ni3'\n",
    "#     }\n",
    "#     return [shorthand_to_full.get(swara, swara) for swara in swaras]"
   ]
  },
  {
   "cell_type": "code",
   "execution_count": null,
   "metadata": {},
   "outputs": [],
   "source": []
  },
  {
   "cell_type": "code",
   "execution_count": 2,
   "metadata": {},
   "outputs": [],
   "source": [
    "# import json\n",
    "\n",
    "# with open(\"arohan_swara.json\",\"r\") as f:\n",
    "#     arohana=json.load(f)\n",
    "# raga = \"mayamalavagowla\"\n",
    "# swaras=['Ri', 'Ma', 'Dha', 'Pa', 'Ga', 'Dha', 'Pa', 'Ga', 'Ma', 'Pa', 'Ma', 'Dha', 'Ni', 'Pa', 'Sa', 'Ni', 'Pa', 'Dha', 'Ni', 'Pa', 'Ri', 'Ga', 'Pa', 'Ga', 'Ma', 'Ni', 'Pa', 'Dha', 'Ni', 'Pa', 'Pa', 'Ga', 'Ni', 'Pa', 'Ri', 'Ni', 'Pa', 'Pa', 'Ga', 'Ma', 'Dha', 'Pa', 'Ga', 'Ma', 'Pa', 'Ma', 'Dha', 'Ni', 'Pa', 'Dha', 'Ni', 'Pa', 'Ri', 'Ma', 'Pa', 'Pa']\n",
    "# map_shorthand_swaras(swaras,arohana[raga])"
   ]
  },
  {
   "cell_type": "code",
   "execution_count": 3,
   "metadata": {},
   "outputs": [],
   "source": [
    "# swara_freq = {\n",
    "#     'Sa': 260.29, 'Ri1': 277.84, 'Ri2':293.08, 'Ga1': 293.08, 'Ri3':309.66, 'Ga2': 309.66,\n",
    "#     'Ga3': 330.28, 'Ma1': 346.90, 'Ma2': 372.19, 'Pa': 390.61,\n",
    "#     'Dha1': 414.82, 'Dha2':440.00, 'Ni1': 440.00, 'Dha3':462.33, 'Ni2': 462.33, 'Ni3': 495.84\n",
    "# }\n",
    "# with open(\"swara_freq.json\",\"w\") as f:\n",
    "#     json.dump(swara_freq,f,indent=2)"
   ]
  },
  {
   "cell_type": "code",
   "execution_count": 4,
   "metadata": {},
   "outputs": [],
   "source": [
    "# alphabet_swara={\n",
    "#     \"mayamalavagowla\": {\n",
    "#         'A': 'Ma Dha', 'B': 'Ri Dha Ni', 'C': 'Sa Ma', 'D': 'Ri Ga',\n",
    "#         'E': 'Dha Ni', 'F': 'Sa Ri', 'G': 'Ga Ma Ni', 'H': 'Ri Dha',\n",
    "#         'I': 'Ga Ni', 'J': 'Ri Ga Dha', 'K': 'Ri Ma Dha', 'L': 'Sa Ni',\n",
    "#         'M': 'Sa Ga', 'N': 'Ga Dha', 'O': 'Ga Ma', 'P': 'Ga Ma Dha',\n",
    "#         'Q': 'Ri Ga Ni', 'R': 'Ri Ma', 'S': 'Ri Ni', 'T': 'Ma Ni',\n",
    "#         'U': 'Sa Dha', 'V': 'Ri Ma Ni', 'W': 'Ma Dha Ni', 'X': 'Ri Ga Ma',\n",
    "#         'Y': 'Ga Dha Ni', 'Z': 'Sa Ma Ni', ' ': 'Pa Pa'\n",
    "#     }\n",
    "# }\n",
    "# with open(\"alphabet_swara.json\",\"w\") as f:\n",
    "#     json.dump(alphabet_swara,f,indent=4)"
   ]
  },
  {
   "cell_type": "code",
   "execution_count": 5,
   "metadata": {},
   "outputs": [],
   "source": [
    "import json\n",
    "from tqdm import tqdm"
   ]
  },
  {
   "cell_type": "code",
   "execution_count": 6,
   "metadata": {},
   "outputs": [],
   "source": [
    "with open(\"arohan_swara.json\",\"r\") as f:\n",
    "    arohana_swara=json.load(f)\n",
    "\n",
    "# for raga in tqdm(arohana_swara.keys()):\n",
    "#     print(raga)"
   ]
  },
  {
   "cell_type": "code",
   "execution_count": 7,
   "metadata": {},
   "outputs": [
    {
     "name": "stdout",
     "output_type": "stream",
     "text": [
      "['A', 'C', 'D', 'E', 'F', 'H', 'I', 'L', 'M', 'N', 'O', 'R', 'S', 'T', 'U']\n",
      "['B', 'G', 'J', 'K', 'P', 'Q', 'V', 'W', 'X', 'Y', 'Z']\n"
     ]
    }
   ],
   "source": [
    "alphabet_swara = {\"A\": \"Ma Dha\",\n",
    "        \"B\": \"Ri Dha Ni\",\n",
    "        \"C\": \"Sa Ma\",\n",
    "        \"D\": \"Ri Ga\",\n",
    "        \"E\": \"Dha Ni\",\n",
    "        \"F\": \"Sa Ri\",\n",
    "        \"G\": \"Ga Ma Ni\",\n",
    "        \"H\": \"Ri Dha\",\n",
    "        \"I\": \"Ga Ni\",\n",
    "        \"J\": \"Ri Ga Dha\",\n",
    "        \"K\": \"Ri Ma Dha\",\n",
    "        \"L\": \"Sa Ni\",\n",
    "        \"M\": \"Sa Ga\",\n",
    "        \"N\": \"Ga Dha\",\n",
    "        \"O\": \"Ga Ma\",\n",
    "        \"P\": \"Ga Ma Dha\",\n",
    "        \"Q\": \"Ri Ga Ni\",\n",
    "        \"R\": \"Ri Ma\",\n",
    "        \"S\": \"Ri Ni\",\n",
    "        \"T\": \"Ma Ni\",\n",
    "        \"U\": \"Sa Dha\",\n",
    "        \"V\": \"Ri Ma Ni\",\n",
    "        \"W\": \"Ma Dha Ni\",\n",
    "        \"X\": \"Ri Ga Ma\",\n",
    "        \"Y\": \"Ga Dha Ni\",\n",
    "        \"Z\": \"Sa Ma Ni\"}\n",
    "two_list=[]\n",
    "three_list=[]\n",
    "for swara in alphabet_swara.keys():\n",
    "    if len(alphabet_swara[swara].split())==2:\n",
    "        two_list.append(swara)\n",
    "    else:\n",
    "        three_list.append(swara)\n",
    "print(two_list) # ['A', 'C', 'D', 'E', 'F', 'H', 'I', 'L', 'M', 'N', 'O', 'R', 'S', 'T', 'U']\n",
    "print(three_list) # ['B', 'G', 'J', 'K', 'P', 'Q', 'V', 'W', 'X', 'Y', 'Z']"
   ]
  },
  {
   "cell_type": "code",
   "execution_count": 14,
   "metadata": {},
   "outputs": [
    {
     "name": "stdout",
     "output_type": "stream",
     "text": [
      "21 [['Sa', 'Sa'], ['Sa', 'Ri'], ['Sa', 'Ga'], ['Sa', 'Ma'], ['Sa', 'Dha'], ['Sa', 'Ni'], ['Ri', 'Ri'], ['Ri', 'Ga'], ['Ri', 'Ma'], ['Ri', 'Dha'], ['Ri', 'Ni'], ['Ga', 'Ga'], ['Ga', 'Ma'], ['Ga', 'Dha'], ['Ga', 'Ni'], ['Ma', 'Ma'], ['Ma', 'Dha'], ['Ma', 'Ni'], ['Dha', 'Dha'], ['Dha', 'Ni'], ['Ni', 'Ni']]\n",
      "56 [['Sa', 'Sa', 'Sa'], ['Sa', 'Sa', 'Ri'], ['Sa', 'Sa', 'Ga'], ['Sa', 'Sa', 'Ma'], ['Sa', 'Sa', 'Dha'], ['Sa', 'Sa', 'Ni'], ['Sa', 'Ri', 'Ri'], ['Sa', 'Ri', 'Ga'], ['Sa', 'Ri', 'Ma'], ['Sa', 'Ri', 'Dha'], ['Sa', 'Ri', 'Ni'], ['Sa', 'Ga', 'Ga'], ['Sa', 'Ga', 'Ma'], ['Sa', 'Ga', 'Dha'], ['Sa', 'Ga', 'Ni'], ['Sa', 'Ma', 'Ma'], ['Sa', 'Ma', 'Dha'], ['Sa', 'Ma', 'Ni'], ['Sa', 'Dha', 'Dha'], ['Sa', 'Dha', 'Ni'], ['Sa', 'Ni', 'Ni'], ['Ri', 'Ri', 'Ri'], ['Ri', 'Ri', 'Ga'], ['Ri', 'Ri', 'Ma'], ['Ri', 'Ri', 'Dha'], ['Ri', 'Ri', 'Ni'], ['Ri', 'Ga', 'Ga'], ['Ri', 'Ga', 'Ma'], ['Ri', 'Ga', 'Dha'], ['Ri', 'Ga', 'Ni'], ['Ri', 'Ma', 'Ma'], ['Ri', 'Ma', 'Dha'], ['Ri', 'Ma', 'Ni'], ['Ri', 'Dha', 'Dha'], ['Ri', 'Dha', 'Ni'], ['Ri', 'Ni', 'Ni'], ['Ga', 'Ga', 'Ga'], ['Ga', 'Ga', 'Ma'], ['Ga', 'Ga', 'Dha'], ['Ga', 'Ga', 'Ni'], ['Ga', 'Ma', 'Ma'], ['Ga', 'Ma', 'Dha'], ['Ga', 'Ma', 'Ni'], ['Ga', 'Dha', 'Dha'], ['Ga', 'Dha', 'Ni'], ['Ga', 'Ni', 'Ni'], ['Ma', 'Ma', 'Ma'], ['Ma', 'Ma', 'Dha'], ['Ma', 'Ma', 'Ni'], ['Ma', 'Dha', 'Dha'], ['Ma', 'Dha', 'Ni'], ['Ma', 'Ni', 'Ni'], ['Dha', 'Dha', 'Dha'], ['Dha', 'Dha', 'Ni'], ['Dha', 'Ni', 'Ni'], ['Ni', 'Ni', 'Ni']]\n",
      "126 [['Sa', 'Sa', 'Sa', 'Sa'], ['Sa', 'Sa', 'Sa', 'Ri'], ['Sa', 'Sa', 'Sa', 'Ga'], ['Sa', 'Sa', 'Sa', 'Ma'], ['Sa', 'Sa', 'Sa', 'Dha'], ['Sa', 'Sa', 'Sa', 'Ni'], ['Sa', 'Sa', 'Ri', 'Ri'], ['Sa', 'Sa', 'Ri', 'Ga'], ['Sa', 'Sa', 'Ri', 'Ma'], ['Sa', 'Sa', 'Ri', 'Dha'], ['Sa', 'Sa', 'Ri', 'Ni'], ['Sa', 'Sa', 'Ga', 'Ga'], ['Sa', 'Sa', 'Ga', 'Ma'], ['Sa', 'Sa', 'Ga', 'Dha'], ['Sa', 'Sa', 'Ga', 'Ni'], ['Sa', 'Sa', 'Ma', 'Ma'], ['Sa', 'Sa', 'Ma', 'Dha'], ['Sa', 'Sa', 'Ma', 'Ni'], ['Sa', 'Sa', 'Dha', 'Dha'], ['Sa', 'Sa', 'Dha', 'Ni'], ['Sa', 'Sa', 'Ni', 'Ni'], ['Sa', 'Ri', 'Ri', 'Ri'], ['Sa', 'Ri', 'Ri', 'Ga'], ['Sa', 'Ri', 'Ri', 'Ma'], ['Sa', 'Ri', 'Ri', 'Dha'], ['Sa', 'Ri', 'Ri', 'Ni'], ['Sa', 'Ri', 'Ga', 'Ga'], ['Sa', 'Ri', 'Ga', 'Ma'], ['Sa', 'Ri', 'Ga', 'Dha'], ['Sa', 'Ri', 'Ga', 'Ni'], ['Sa', 'Ri', 'Ma', 'Ma'], ['Sa', 'Ri', 'Ma', 'Dha'], ['Sa', 'Ri', 'Ma', 'Ni'], ['Sa', 'Ri', 'Dha', 'Dha'], ['Sa', 'Ri', 'Dha', 'Ni'], ['Sa', 'Ri', 'Ni', 'Ni'], ['Sa', 'Ga', 'Ga', 'Ga'], ['Sa', 'Ga', 'Ga', 'Ma'], ['Sa', 'Ga', 'Ga', 'Dha'], ['Sa', 'Ga', 'Ga', 'Ni'], ['Sa', 'Ga', 'Ma', 'Ma'], ['Sa', 'Ga', 'Ma', 'Dha'], ['Sa', 'Ga', 'Ma', 'Ni'], ['Sa', 'Ga', 'Dha', 'Dha'], ['Sa', 'Ga', 'Dha', 'Ni'], ['Sa', 'Ga', 'Ni', 'Ni'], ['Sa', 'Ma', 'Ma', 'Ma'], ['Sa', 'Ma', 'Ma', 'Dha'], ['Sa', 'Ma', 'Ma', 'Ni'], ['Sa', 'Ma', 'Dha', 'Dha'], ['Sa', 'Ma', 'Dha', 'Ni'], ['Sa', 'Ma', 'Ni', 'Ni'], ['Sa', 'Dha', 'Dha', 'Dha'], ['Sa', 'Dha', 'Dha', 'Ni'], ['Sa', 'Dha', 'Ni', 'Ni'], ['Sa', 'Ni', 'Ni', 'Ni'], ['Ri', 'Ri', 'Ri', 'Ri'], ['Ri', 'Ri', 'Ri', 'Ga'], ['Ri', 'Ri', 'Ri', 'Ma'], ['Ri', 'Ri', 'Ri', 'Dha'], ['Ri', 'Ri', 'Ri', 'Ni'], ['Ri', 'Ri', 'Ga', 'Ga'], ['Ri', 'Ri', 'Ga', 'Ma'], ['Ri', 'Ri', 'Ga', 'Dha'], ['Ri', 'Ri', 'Ga', 'Ni'], ['Ri', 'Ri', 'Ma', 'Ma'], ['Ri', 'Ri', 'Ma', 'Dha'], ['Ri', 'Ri', 'Ma', 'Ni'], ['Ri', 'Ri', 'Dha', 'Dha'], ['Ri', 'Ri', 'Dha', 'Ni'], ['Ri', 'Ri', 'Ni', 'Ni'], ['Ri', 'Ga', 'Ga', 'Ga'], ['Ri', 'Ga', 'Ga', 'Ma'], ['Ri', 'Ga', 'Ga', 'Dha'], ['Ri', 'Ga', 'Ga', 'Ni'], ['Ri', 'Ga', 'Ma', 'Ma'], ['Ri', 'Ga', 'Ma', 'Dha'], ['Ri', 'Ga', 'Ma', 'Ni'], ['Ri', 'Ga', 'Dha', 'Dha'], ['Ri', 'Ga', 'Dha', 'Ni'], ['Ri', 'Ga', 'Ni', 'Ni'], ['Ri', 'Ma', 'Ma', 'Ma'], ['Ri', 'Ma', 'Ma', 'Dha'], ['Ri', 'Ma', 'Ma', 'Ni'], ['Ri', 'Ma', 'Dha', 'Dha'], ['Ri', 'Ma', 'Dha', 'Ni'], ['Ri', 'Ma', 'Ni', 'Ni'], ['Ri', 'Dha', 'Dha', 'Dha'], ['Ri', 'Dha', 'Dha', 'Ni'], ['Ri', 'Dha', 'Ni', 'Ni'], ['Ri', 'Ni', 'Ni', 'Ni'], ['Ga', 'Ga', 'Ga', 'Ga'], ['Ga', 'Ga', 'Ga', 'Ma'], ['Ga', 'Ga', 'Ga', 'Dha'], ['Ga', 'Ga', 'Ga', 'Ni'], ['Ga', 'Ga', 'Ma', 'Ma'], ['Ga', 'Ga', 'Ma', 'Dha'], ['Ga', 'Ga', 'Ma', 'Ni'], ['Ga', 'Ga', 'Dha', 'Dha'], ['Ga', 'Ga', 'Dha', 'Ni'], ['Ga', 'Ga', 'Ni', 'Ni'], ['Ga', 'Ma', 'Ma', 'Ma'], ['Ga', 'Ma', 'Ma', 'Dha'], ['Ga', 'Ma', 'Ma', 'Ni'], ['Ga', 'Ma', 'Dha', 'Dha'], ['Ga', 'Ma', 'Dha', 'Ni'], ['Ga', 'Ma', 'Ni', 'Ni'], ['Ga', 'Dha', 'Dha', 'Dha'], ['Ga', 'Dha', 'Dha', 'Ni'], ['Ga', 'Dha', 'Ni', 'Ni'], ['Ga', 'Ni', 'Ni', 'Ni'], ['Ma', 'Ma', 'Ma', 'Ma'], ['Ma', 'Ma', 'Ma', 'Dha'], ['Ma', 'Ma', 'Ma', 'Ni'], ['Ma', 'Ma', 'Dha', 'Dha'], ['Ma', 'Ma', 'Dha', 'Ni'], ['Ma', 'Ma', 'Ni', 'Ni'], ['Ma', 'Dha', 'Dha', 'Dha'], ['Ma', 'Dha', 'Dha', 'Ni'], ['Ma', 'Dha', 'Ni', 'Ni'], ['Ma', 'Ni', 'Ni', 'Ni'], ['Dha', 'Dha', 'Dha', 'Dha'], ['Dha', 'Dha', 'Dha', 'Ni'], ['Dha', 'Dha', 'Ni', 'Ni'], ['Dha', 'Ni', 'Ni', 'Ni'], ['Ni', 'Ni', 'Ni', 'Ni']]\n",
      "252 [['Sa', 'Sa', 'Sa', 'Sa', 'Sa'], ['Sa', 'Sa', 'Sa', 'Sa', 'Ri'], ['Sa', 'Sa', 'Sa', 'Sa', 'Ga'], ['Sa', 'Sa', 'Sa', 'Sa', 'Ma'], ['Sa', 'Sa', 'Sa', 'Sa', 'Dha'], ['Sa', 'Sa', 'Sa', 'Sa', 'Ni'], ['Sa', 'Sa', 'Sa', 'Ri', 'Ri'], ['Sa', 'Sa', 'Sa', 'Ri', 'Ga'], ['Sa', 'Sa', 'Sa', 'Ri', 'Ma'], ['Sa', 'Sa', 'Sa', 'Ri', 'Dha'], ['Sa', 'Sa', 'Sa', 'Ri', 'Ni'], ['Sa', 'Sa', 'Sa', 'Ga', 'Ga'], ['Sa', 'Sa', 'Sa', 'Ga', 'Ma'], ['Sa', 'Sa', 'Sa', 'Ga', 'Dha'], ['Sa', 'Sa', 'Sa', 'Ga', 'Ni'], ['Sa', 'Sa', 'Sa', 'Ma', 'Ma'], ['Sa', 'Sa', 'Sa', 'Ma', 'Dha'], ['Sa', 'Sa', 'Sa', 'Ma', 'Ni'], ['Sa', 'Sa', 'Sa', 'Dha', 'Dha'], ['Sa', 'Sa', 'Sa', 'Dha', 'Ni'], ['Sa', 'Sa', 'Sa', 'Ni', 'Ni'], ['Sa', 'Sa', 'Ri', 'Ri', 'Ri'], ['Sa', 'Sa', 'Ri', 'Ri', 'Ga'], ['Sa', 'Sa', 'Ri', 'Ri', 'Ma'], ['Sa', 'Sa', 'Ri', 'Ri', 'Dha'], ['Sa', 'Sa', 'Ri', 'Ri', 'Ni'], ['Sa', 'Sa', 'Ri', 'Ga', 'Ga'], ['Sa', 'Sa', 'Ri', 'Ga', 'Ma'], ['Sa', 'Sa', 'Ri', 'Ga', 'Dha'], ['Sa', 'Sa', 'Ri', 'Ga', 'Ni'], ['Sa', 'Sa', 'Ri', 'Ma', 'Ma'], ['Sa', 'Sa', 'Ri', 'Ma', 'Dha'], ['Sa', 'Sa', 'Ri', 'Ma', 'Ni'], ['Sa', 'Sa', 'Ri', 'Dha', 'Dha'], ['Sa', 'Sa', 'Ri', 'Dha', 'Ni'], ['Sa', 'Sa', 'Ri', 'Ni', 'Ni'], ['Sa', 'Sa', 'Ga', 'Ga', 'Ga'], ['Sa', 'Sa', 'Ga', 'Ga', 'Ma'], ['Sa', 'Sa', 'Ga', 'Ga', 'Dha'], ['Sa', 'Sa', 'Ga', 'Ga', 'Ni'], ['Sa', 'Sa', 'Ga', 'Ma', 'Ma'], ['Sa', 'Sa', 'Ga', 'Ma', 'Dha'], ['Sa', 'Sa', 'Ga', 'Ma', 'Ni'], ['Sa', 'Sa', 'Ga', 'Dha', 'Dha'], ['Sa', 'Sa', 'Ga', 'Dha', 'Ni'], ['Sa', 'Sa', 'Ga', 'Ni', 'Ni'], ['Sa', 'Sa', 'Ma', 'Ma', 'Ma'], ['Sa', 'Sa', 'Ma', 'Ma', 'Dha'], ['Sa', 'Sa', 'Ma', 'Ma', 'Ni'], ['Sa', 'Sa', 'Ma', 'Dha', 'Dha'], ['Sa', 'Sa', 'Ma', 'Dha', 'Ni'], ['Sa', 'Sa', 'Ma', 'Ni', 'Ni'], ['Sa', 'Sa', 'Dha', 'Dha', 'Dha'], ['Sa', 'Sa', 'Dha', 'Dha', 'Ni'], ['Sa', 'Sa', 'Dha', 'Ni', 'Ni'], ['Sa', 'Sa', 'Ni', 'Ni', 'Ni'], ['Sa', 'Ri', 'Ri', 'Ri', 'Ri'], ['Sa', 'Ri', 'Ri', 'Ri', 'Ga'], ['Sa', 'Ri', 'Ri', 'Ri', 'Ma'], ['Sa', 'Ri', 'Ri', 'Ri', 'Dha'], ['Sa', 'Ri', 'Ri', 'Ri', 'Ni'], ['Sa', 'Ri', 'Ri', 'Ga', 'Ga'], ['Sa', 'Ri', 'Ri', 'Ga', 'Ma'], ['Sa', 'Ri', 'Ri', 'Ga', 'Dha'], ['Sa', 'Ri', 'Ri', 'Ga', 'Ni'], ['Sa', 'Ri', 'Ri', 'Ma', 'Ma'], ['Sa', 'Ri', 'Ri', 'Ma', 'Dha'], ['Sa', 'Ri', 'Ri', 'Ma', 'Ni'], ['Sa', 'Ri', 'Ri', 'Dha', 'Dha'], ['Sa', 'Ri', 'Ri', 'Dha', 'Ni'], ['Sa', 'Ri', 'Ri', 'Ni', 'Ni'], ['Sa', 'Ri', 'Ga', 'Ga', 'Ga'], ['Sa', 'Ri', 'Ga', 'Ga', 'Ma'], ['Sa', 'Ri', 'Ga', 'Ga', 'Dha'], ['Sa', 'Ri', 'Ga', 'Ga', 'Ni'], ['Sa', 'Ri', 'Ga', 'Ma', 'Ma'], ['Sa', 'Ri', 'Ga', 'Ma', 'Dha'], ['Sa', 'Ri', 'Ga', 'Ma', 'Ni'], ['Sa', 'Ri', 'Ga', 'Dha', 'Dha'], ['Sa', 'Ri', 'Ga', 'Dha', 'Ni'], ['Sa', 'Ri', 'Ga', 'Ni', 'Ni'], ['Sa', 'Ri', 'Ma', 'Ma', 'Ma'], ['Sa', 'Ri', 'Ma', 'Ma', 'Dha'], ['Sa', 'Ri', 'Ma', 'Ma', 'Ni'], ['Sa', 'Ri', 'Ma', 'Dha', 'Dha'], ['Sa', 'Ri', 'Ma', 'Dha', 'Ni'], ['Sa', 'Ri', 'Ma', 'Ni', 'Ni'], ['Sa', 'Ri', 'Dha', 'Dha', 'Dha'], ['Sa', 'Ri', 'Dha', 'Dha', 'Ni'], ['Sa', 'Ri', 'Dha', 'Ni', 'Ni'], ['Sa', 'Ri', 'Ni', 'Ni', 'Ni'], ['Sa', 'Ga', 'Ga', 'Ga', 'Ga'], ['Sa', 'Ga', 'Ga', 'Ga', 'Ma'], ['Sa', 'Ga', 'Ga', 'Ga', 'Dha'], ['Sa', 'Ga', 'Ga', 'Ga', 'Ni'], ['Sa', 'Ga', 'Ga', 'Ma', 'Ma'], ['Sa', 'Ga', 'Ga', 'Ma', 'Dha'], ['Sa', 'Ga', 'Ga', 'Ma', 'Ni'], ['Sa', 'Ga', 'Ga', 'Dha', 'Dha'], ['Sa', 'Ga', 'Ga', 'Dha', 'Ni'], ['Sa', 'Ga', 'Ga', 'Ni', 'Ni'], ['Sa', 'Ga', 'Ma', 'Ma', 'Ma'], ['Sa', 'Ga', 'Ma', 'Ma', 'Dha'], ['Sa', 'Ga', 'Ma', 'Ma', 'Ni'], ['Sa', 'Ga', 'Ma', 'Dha', 'Dha'], ['Sa', 'Ga', 'Ma', 'Dha', 'Ni'], ['Sa', 'Ga', 'Ma', 'Ni', 'Ni'], ['Sa', 'Ga', 'Dha', 'Dha', 'Dha'], ['Sa', 'Ga', 'Dha', 'Dha', 'Ni'], ['Sa', 'Ga', 'Dha', 'Ni', 'Ni'], ['Sa', 'Ga', 'Ni', 'Ni', 'Ni'], ['Sa', 'Ma', 'Ma', 'Ma', 'Ma'], ['Sa', 'Ma', 'Ma', 'Ma', 'Dha'], ['Sa', 'Ma', 'Ma', 'Ma', 'Ni'], ['Sa', 'Ma', 'Ma', 'Dha', 'Dha'], ['Sa', 'Ma', 'Ma', 'Dha', 'Ni'], ['Sa', 'Ma', 'Ma', 'Ni', 'Ni'], ['Sa', 'Ma', 'Dha', 'Dha', 'Dha'], ['Sa', 'Ma', 'Dha', 'Dha', 'Ni'], ['Sa', 'Ma', 'Dha', 'Ni', 'Ni'], ['Sa', 'Ma', 'Ni', 'Ni', 'Ni'], ['Sa', 'Dha', 'Dha', 'Dha', 'Dha'], ['Sa', 'Dha', 'Dha', 'Dha', 'Ni'], ['Sa', 'Dha', 'Dha', 'Ni', 'Ni'], ['Sa', 'Dha', 'Ni', 'Ni', 'Ni'], ['Sa', 'Ni', 'Ni', 'Ni', 'Ni'], ['Ri', 'Ri', 'Ri', 'Ri', 'Ri'], ['Ri', 'Ri', 'Ri', 'Ri', 'Ga'], ['Ri', 'Ri', 'Ri', 'Ri', 'Ma'], ['Ri', 'Ri', 'Ri', 'Ri', 'Dha'], ['Ri', 'Ri', 'Ri', 'Ri', 'Ni'], ['Ri', 'Ri', 'Ri', 'Ga', 'Ga'], ['Ri', 'Ri', 'Ri', 'Ga', 'Ma'], ['Ri', 'Ri', 'Ri', 'Ga', 'Dha'], ['Ri', 'Ri', 'Ri', 'Ga', 'Ni'], ['Ri', 'Ri', 'Ri', 'Ma', 'Ma'], ['Ri', 'Ri', 'Ri', 'Ma', 'Dha'], ['Ri', 'Ri', 'Ri', 'Ma', 'Ni'], ['Ri', 'Ri', 'Ri', 'Dha', 'Dha'], ['Ri', 'Ri', 'Ri', 'Dha', 'Ni'], ['Ri', 'Ri', 'Ri', 'Ni', 'Ni'], ['Ri', 'Ri', 'Ga', 'Ga', 'Ga'], ['Ri', 'Ri', 'Ga', 'Ga', 'Ma'], ['Ri', 'Ri', 'Ga', 'Ga', 'Dha'], ['Ri', 'Ri', 'Ga', 'Ga', 'Ni'], ['Ri', 'Ri', 'Ga', 'Ma', 'Ma'], ['Ri', 'Ri', 'Ga', 'Ma', 'Dha'], ['Ri', 'Ri', 'Ga', 'Ma', 'Ni'], ['Ri', 'Ri', 'Ga', 'Dha', 'Dha'], ['Ri', 'Ri', 'Ga', 'Dha', 'Ni'], ['Ri', 'Ri', 'Ga', 'Ni', 'Ni'], ['Ri', 'Ri', 'Ma', 'Ma', 'Ma'], ['Ri', 'Ri', 'Ma', 'Ma', 'Dha'], ['Ri', 'Ri', 'Ma', 'Ma', 'Ni'], ['Ri', 'Ri', 'Ma', 'Dha', 'Dha'], ['Ri', 'Ri', 'Ma', 'Dha', 'Ni'], ['Ri', 'Ri', 'Ma', 'Ni', 'Ni'], ['Ri', 'Ri', 'Dha', 'Dha', 'Dha'], ['Ri', 'Ri', 'Dha', 'Dha', 'Ni'], ['Ri', 'Ri', 'Dha', 'Ni', 'Ni'], ['Ri', 'Ri', 'Ni', 'Ni', 'Ni'], ['Ri', 'Ga', 'Ga', 'Ga', 'Ga'], ['Ri', 'Ga', 'Ga', 'Ga', 'Ma'], ['Ri', 'Ga', 'Ga', 'Ga', 'Dha'], ['Ri', 'Ga', 'Ga', 'Ga', 'Ni'], ['Ri', 'Ga', 'Ga', 'Ma', 'Ma'], ['Ri', 'Ga', 'Ga', 'Ma', 'Dha'], ['Ri', 'Ga', 'Ga', 'Ma', 'Ni'], ['Ri', 'Ga', 'Ga', 'Dha', 'Dha'], ['Ri', 'Ga', 'Ga', 'Dha', 'Ni'], ['Ri', 'Ga', 'Ga', 'Ni', 'Ni'], ['Ri', 'Ga', 'Ma', 'Ma', 'Ma'], ['Ri', 'Ga', 'Ma', 'Ma', 'Dha'], ['Ri', 'Ga', 'Ma', 'Ma', 'Ni'], ['Ri', 'Ga', 'Ma', 'Dha', 'Dha'], ['Ri', 'Ga', 'Ma', 'Dha', 'Ni'], ['Ri', 'Ga', 'Ma', 'Ni', 'Ni'], ['Ri', 'Ga', 'Dha', 'Dha', 'Dha'], ['Ri', 'Ga', 'Dha', 'Dha', 'Ni'], ['Ri', 'Ga', 'Dha', 'Ni', 'Ni'], ['Ri', 'Ga', 'Ni', 'Ni', 'Ni'], ['Ri', 'Ma', 'Ma', 'Ma', 'Ma'], ['Ri', 'Ma', 'Ma', 'Ma', 'Dha'], ['Ri', 'Ma', 'Ma', 'Ma', 'Ni'], ['Ri', 'Ma', 'Ma', 'Dha', 'Dha'], ['Ri', 'Ma', 'Ma', 'Dha', 'Ni'], ['Ri', 'Ma', 'Ma', 'Ni', 'Ni'], ['Ri', 'Ma', 'Dha', 'Dha', 'Dha'], ['Ri', 'Ma', 'Dha', 'Dha', 'Ni'], ['Ri', 'Ma', 'Dha', 'Ni', 'Ni'], ['Ri', 'Ma', 'Ni', 'Ni', 'Ni'], ['Ri', 'Dha', 'Dha', 'Dha', 'Dha'], ['Ri', 'Dha', 'Dha', 'Dha', 'Ni'], ['Ri', 'Dha', 'Dha', 'Ni', 'Ni'], ['Ri', 'Dha', 'Ni', 'Ni', 'Ni'], ['Ri', 'Ni', 'Ni', 'Ni', 'Ni'], ['Ga', 'Ga', 'Ga', 'Ga', 'Ga'], ['Ga', 'Ga', 'Ga', 'Ga', 'Ma'], ['Ga', 'Ga', 'Ga', 'Ga', 'Dha'], ['Ga', 'Ga', 'Ga', 'Ga', 'Ni'], ['Ga', 'Ga', 'Ga', 'Ma', 'Ma'], ['Ga', 'Ga', 'Ga', 'Ma', 'Dha'], ['Ga', 'Ga', 'Ga', 'Ma', 'Ni'], ['Ga', 'Ga', 'Ga', 'Dha', 'Dha'], ['Ga', 'Ga', 'Ga', 'Dha', 'Ni'], ['Ga', 'Ga', 'Ga', 'Ni', 'Ni'], ['Ga', 'Ga', 'Ma', 'Ma', 'Ma'], ['Ga', 'Ga', 'Ma', 'Ma', 'Dha'], ['Ga', 'Ga', 'Ma', 'Ma', 'Ni'], ['Ga', 'Ga', 'Ma', 'Dha', 'Dha'], ['Ga', 'Ga', 'Ma', 'Dha', 'Ni'], ['Ga', 'Ga', 'Ma', 'Ni', 'Ni'], ['Ga', 'Ga', 'Dha', 'Dha', 'Dha'], ['Ga', 'Ga', 'Dha', 'Dha', 'Ni'], ['Ga', 'Ga', 'Dha', 'Ni', 'Ni'], ['Ga', 'Ga', 'Ni', 'Ni', 'Ni'], ['Ga', 'Ma', 'Ma', 'Ma', 'Ma'], ['Ga', 'Ma', 'Ma', 'Ma', 'Dha'], ['Ga', 'Ma', 'Ma', 'Ma', 'Ni'], ['Ga', 'Ma', 'Ma', 'Dha', 'Dha'], ['Ga', 'Ma', 'Ma', 'Dha', 'Ni'], ['Ga', 'Ma', 'Ma', 'Ni', 'Ni'], ['Ga', 'Ma', 'Dha', 'Dha', 'Dha'], ['Ga', 'Ma', 'Dha', 'Dha', 'Ni'], ['Ga', 'Ma', 'Dha', 'Ni', 'Ni'], ['Ga', 'Ma', 'Ni', 'Ni', 'Ni'], ['Ga', 'Dha', 'Dha', 'Dha', 'Dha'], ['Ga', 'Dha', 'Dha', 'Dha', 'Ni'], ['Ga', 'Dha', 'Dha', 'Ni', 'Ni'], ['Ga', 'Dha', 'Ni', 'Ni', 'Ni'], ['Ga', 'Ni', 'Ni', 'Ni', 'Ni'], ['Ma', 'Ma', 'Ma', 'Ma', 'Ma'], ['Ma', 'Ma', 'Ma', 'Ma', 'Dha'], ['Ma', 'Ma', 'Ma', 'Ma', 'Ni'], ['Ma', 'Ma', 'Ma', 'Dha', 'Dha'], ['Ma', 'Ma', 'Ma', 'Dha', 'Ni'], ['Ma', 'Ma', 'Ma', 'Ni', 'Ni'], ['Ma', 'Ma', 'Dha', 'Dha', 'Dha'], ['Ma', 'Ma', 'Dha', 'Dha', 'Ni'], ['Ma', 'Ma', 'Dha', 'Ni', 'Ni'], ['Ma', 'Ma', 'Ni', 'Ni', 'Ni'], ['Ma', 'Dha', 'Dha', 'Dha', 'Dha'], ['Ma', 'Dha', 'Dha', 'Dha', 'Ni'], ['Ma', 'Dha', 'Dha', 'Ni', 'Ni'], ['Ma', 'Dha', 'Ni', 'Ni', 'Ni'], ['Ma', 'Ni', 'Ni', 'Ni', 'Ni'], ['Dha', 'Dha', 'Dha', 'Dha', 'Dha'], ['Dha', 'Dha', 'Dha', 'Dha', 'Ni'], ['Dha', 'Dha', 'Dha', 'Ni', 'Ni'], ['Dha', 'Dha', 'Ni', 'Ni', 'Ni'], ['Dha', 'Ni', 'Ni', 'Ni', 'Ni'], ['Ni', 'Ni', 'Ni', 'Ni', 'Ni']]\n"
     ]
    }
   ],
   "source": [
    "two_list = ['A', 'C', 'D', 'E', 'F', 'H', 'I', 'L', 'M', 'N', 'O', 'R', 'S', 'T', 'U']\n",
    "three_list = ['B', 'G', 'J', 'K', 'P', 'Q', 'V', 'W', 'X', 'Y', 'Z']\n",
    "\n",
    "swaras = ['Sa', 'Ri', 'Ga', 'Ma', 'Dha', 'Ni']\n",
    "\n",
    "all_possible_two_comb = []\n",
    "for i in range(0,len(swaras)):\n",
    "    for j in range(i,len(swaras)):\n",
    "        all_possible_two_comb.append([swaras[i],swaras[j]])\n",
    "print(len(all_possible_two_comb),all_possible_two_comb)\n",
    "\n",
    "all_possible_three_comb = []\n",
    "for i in range(0,len(swaras)):\n",
    "    for j in range(i,len(swaras)):\n",
    "        for k in range(j,len(swaras)):\n",
    "            all_possible_three_comb.append([swaras[i],swaras[j],swaras[k]])\n",
    "print(len(all_possible_three_comb),all_possible_three_comb)\n",
    "\n",
    "all_possible_four_comb = []\n",
    "for i in range(0,len(swaras)):\n",
    "    for j in range(i,len(swaras)):\n",
    "        for k in range(j,len(swaras)):\n",
    "            for l in range(k,len(swaras)):\n",
    "                all_possible_four_comb.append([swaras[i],swaras[j],swaras[k],swaras[l]])\n",
    "print(len(all_possible_four_comb),all_possible_four_comb)\n",
    "\n",
    "all_possible_five_comb = []\n",
    "for i in range(0,len(swaras)):\n",
    "    for j in range(i,len(swaras)):\n",
    "        for k in range(j,len(swaras)):\n",
    "            for l in range(k,len(swaras)):\n",
    "                for m in range(l,len(swaras)):\n",
    "                    all_possible_five_comb.append([swaras[i],swaras[j],swaras[k],swaras[l],swaras[m]])\n",
    "print(len(all_possible_five_comb),all_possible_five_comb)"
   ]
  },
  {
   "cell_type": "code",
   "execution_count": 22,
   "metadata": {},
   "outputs": [],
   "source": [
    "two_three_four_five_comb = [all_possible_two_comb,all_possible_three_comb,all_possible_four_comb,all_possible_five_comb]\n",
    "import json\n",
    "with open(\"two_three_four_five_comb.json\",\"w\") as f:\n",
    "    json.dump(two_three_four_five_comb,f)"
   ]
  },
  {
   "cell_type": "code",
   "execution_count": 24,
   "metadata": {},
   "outputs": [
    {
     "name": "stdout",
     "output_type": "stream",
     "text": [
      "[[4, 12, 6, 1, 2, 3, 8, 10, 7, 13, 14, 9, 0, 11, 5], [11, 6, 0, 7, 9, 14, 5, 13, 12, 10, 2, 3, 1, 8, 4], [9, 7, 5, 11, 6, 12, 14, 0, 1, 2, 10, 3, 4, 8, 13], [6, 2, 3, 12, 7, 5, 13, 10, 8, 14, 11, 1, 9, 4, 0], [4, 13, 10, 14, 11, 8, 12, 0, 9, 5, 6, 3, 2, 1, 7], [14, 0, 7, 2, 13, 8, 5, 3, 6, 9, 11, 1, 10, 12, 4], [5, 11, 0, 7, 1, 9, 4, 14, 12, 8, 2, 3, 10, 6, 13], [2, 12, 9, 11, 1, 7, 5, 8, 10, 3, 4, 0, 6, 13, 14], [1, 2, 0, 6, 3, 13, 8, 10, 12, 4, 5, 9, 14, 11, 7], [4, 10, 6, 0, 7, 5, 1, 12, 11, 3, 14, 2, 13, 9, 8]]\n",
      "[[0, 5, 9, 4, 10, 6, 8, 1, 2, 7, 3], [3, 5, 9, 10, 8, 2, 7, 0, 1, 4, 6], [8, 10, 4, 3, 6, 9, 2, 5, 7, 1, 0], [6, 10, 3, 2, 5, 8, 4, 0, 9, 7, 1], [1, 6, 4, 7, 5, 8, 2, 3, 0, 9, 10], [5, 10, 2, 1, 6, 0, 9, 8, 7, 4, 3], [0, 8, 2, 5, 1, 6, 7, 3, 4, 10, 9], [8, 10, 1, 5, 2, 9, 0, 6, 4, 3, 7], [0, 2, 5, 1, 3, 9, 4, 7, 10, 6, 8], [10, 4, 8, 9, 6, 2, 1, 0, 7, 5, 3]]\n"
     ]
    }
   ],
   "source": [
    "#generate 10 random sequences of length 15 .each sequence must have numbers from 0 to 14 (both included) only\n",
    "import random\n",
    "random_two_list=[]\n",
    "for i in range(10):\n",
    "    random_two_list.append(random.sample(range(15),15))\n",
    "random_three_list=[]\n",
    "for i in range(10):\n",
    "    random_three_list.append(random.sample(range(11),11))\n",
    "print(random_two_list)\n",
    "print(random_three_list)"
   ]
  },
  {
   "cell_type": "code",
   "execution_count": 27,
   "metadata": {},
   "outputs": [
    {
     "name": "stdout",
     "output_type": "stream",
     "text": [
      "{'A': 'Sa Dha', 'C': 'Ga Ma', 'D': 'Ri Ri', 'E': 'Sa Ri', 'F': 'Sa Ga', 'H': 'Sa Ma', 'I': 'Ri Ma', 'L': 'Ri Ni', 'M': 'Ri Ga', 'N': 'Ga Dha', 'O': 'Ga Ni', 'R': 'Ri Dha', 'S': 'Sa Sa', 'T': 'Ga Ga', 'U': 'Sa Ni', 'B': 'Sa Sa Sa', 'G': 'Sa Sa Ni', 'J': 'Sa Ri Dha', 'K': 'Sa Sa Dha', 'P': 'Sa Ri Ni', 'Q': 'Sa Ri Ri', 'V': 'Sa Ri Ma', 'W': 'Sa Sa Ri', 'X': 'Sa Sa Ga', 'Y': 'Sa Ri Ga', 'Z': 'Sa Sa Ma'}\n",
      "{'A': 'Ga Ga', 'C': 'Ri Ri', 'D': 'Sa Sa', 'E': 'Ri Ga', 'F': 'Ri Dha', 'H': 'Ga Ni', 'I': 'Sa Ni', 'L': 'Ga Dha', 'M': 'Ga Ma', 'N': 'Ri Ni', 'O': 'Sa Ga', 'R': 'Sa Ma', 'S': 'Sa Ri', 'T': 'Ri Ma', 'U': 'Sa Dha', 'B': 'Sa Sa Ma', 'G': 'Sa Sa Ni', 'J': 'Sa Ri Dha', 'K': 'Sa Ri Ni', 'P': 'Sa Ri Ma', 'Q': 'Sa Sa Ga', 'V': 'Sa Ri Ga', 'W': 'Sa Sa Sa', 'X': 'Sa Sa Ri', 'Y': 'Sa Sa Dha', 'Z': 'Sa Ri Ri'}\n",
      "{'A': 'Ri Dha', 'C': 'Ri Ga', 'D': 'Sa Ni', 'E': 'Ga Ga', 'F': 'Ri Ri', 'H': 'Ga Ma', 'I': 'Ga Ni', 'L': 'Sa Sa', 'M': 'Sa Ri', 'N': 'Sa Ga', 'O': 'Ri Ni', 'R': 'Sa Ma', 'S': 'Sa Dha', 'T': 'Ri Ma', 'U': 'Ga Dha', 'B': 'Sa Ri Ma', 'G': 'Sa Ri Ni', 'J': 'Sa Sa Dha', 'K': 'Sa Sa Ma', 'P': 'Sa Ri Ri', 'Q': 'Sa Ri Dha', 'V': 'Sa Sa Ga', 'W': 'Sa Sa Ni', 'X': 'Sa Ri Ga', 'Y': 'Sa Sa Ri', 'Z': 'Sa Sa Sa'}\n",
      "{'A': 'Ri Ri', 'C': 'Sa Ga', 'D': 'Sa Ma', 'E': 'Ga Ma', 'F': 'Ri Ga', 'H': 'Sa Ni', 'I': 'Ga Dha', 'L': 'Ri Ni', 'M': 'Ri Ma', 'N': 'Ga Ni', 'O': 'Ga Ga', 'R': 'Sa Ri', 'S': 'Ri Dha', 'T': 'Sa Dha', 'U': 'Sa Sa', 'B': 'Sa Ri Ri', 'G': 'Sa Ri Ni', 'J': 'Sa Sa Ma', 'K': 'Sa Sa Ga', 'P': 'Sa Sa Ni', 'Q': 'Sa Ri Ma', 'V': 'Sa Sa Dha', 'W': 'Sa Sa Sa', 'X': 'Sa Ri Dha', 'Y': 'Sa Ri Ga', 'Z': 'Sa Sa Ri'}\n",
      "{'A': 'Sa Dha', 'C': 'Ga Dha', 'D': 'Ri Ni', 'E': 'Ga Ni', 'F': 'Ga Ga', 'H': 'Ri Ma', 'I': 'Ga Ma', 'L': 'Sa Sa', 'M': 'Ri Dha', 'N': 'Sa Ni', 'O': 'Ri Ri', 'R': 'Sa Ma', 'S': 'Sa Ga', 'T': 'Sa Ri', 'U': 'Ri Ga', 'B': 'Sa Sa Ri', 'G': 'Sa Ri Ri', 'J': 'Sa Sa Dha', 'K': 'Sa Ri Ga', 'P': 'Sa Sa Ni', 'Q': 'Sa Ri Ma', 'V': 'Sa Sa Ga', 'W': 'Sa Sa Ma', 'X': 'Sa Sa Sa', 'Y': 'Sa Ri Dha', 'Z': 'Sa Ri Ni'}\n",
      "{'A': 'Ga Ni', 'C': 'Sa Sa', 'D': 'Ri Ga', 'E': 'Sa Ga', 'F': 'Ga Dha', 'H': 'Ri Ma', 'I': 'Sa Ni', 'L': 'Sa Ma', 'M': 'Ri Ri', 'N': 'Ri Dha', 'O': 'Ga Ga', 'R': 'Sa Ri', 'S': 'Ri Ni', 'T': 'Ga Ma', 'U': 'Sa Dha', 'B': 'Sa Sa Ni', 'G': 'Sa Ri Ni', 'J': 'Sa Sa Ga', 'K': 'Sa Sa Ri', 'P': 'Sa Ri Ri', 'Q': 'Sa Sa Sa', 'V': 'Sa Ri Dha', 'W': 'Sa Ri Ma', 'X': 'Sa Ri Ga', 'Y': 'Sa Sa Dha', 'Z': 'Sa Sa Ma'}\n",
      "{'A': 'Sa Ni', 'C': 'Ga Ga', 'D': 'Sa Sa', 'E': 'Ri Ga', 'F': 'Sa Ri', 'H': 'Ri Dha', 'I': 'Sa Dha', 'L': 'Ga Ni', 'M': 'Ga Ma', 'N': 'Ri Ma', 'O': 'Sa Ga', 'R': 'Sa Ma', 'S': 'Ri Ni', 'T': 'Ri Ri', 'U': 'Ga Dha', 'B': 'Sa Sa Sa', 'G': 'Sa Ri Ma', 'J': 'Sa Sa Ga', 'K': 'Sa Sa Ni', 'P': 'Sa Sa Ri', 'Q': 'Sa Ri Ri', 'V': 'Sa Ri Ga', 'W': 'Sa Sa Ma', 'X': 'Sa Sa Dha', 'Y': 'Sa Ri Ni', 'Z': 'Sa Ri Dha'}\n",
      "{'A': 'Sa Ga', 'C': 'Ga Ma', 'D': 'Ri Dha', 'E': 'Ga Ga', 'F': 'Sa Ri', 'H': 'Ri Ga', 'I': 'Sa Ni', 'L': 'Ri Ma', 'M': 'Ri Ni', 'N': 'Sa Ma', 'O': 'Sa Dha', 'R': 'Sa Sa', 'S': 'Ri Ri', 'T': 'Ga Dha', 'U': 'Ga Ni', 'B': 'Sa Ri Ma', 'G': 'Sa Ri Ni', 'J': 'Sa Sa Ri', 'K': 'Sa Sa Ni', 'P': 'Sa Sa Ga', 'Q': 'Sa Ri Dha', 'V': 'Sa Sa Sa', 'W': 'Sa Ri Ri', 'X': 'Sa Sa Dha', 'Y': 'Sa Sa Ma', 'Z': 'Sa Ri Ga'}\n",
      "{'A': 'Sa Ri', 'C': 'Sa Ga', 'D': 'Sa Sa', 'E': 'Ri Ri', 'F': 'Sa Ma', 'H': 'Ga Dha', 'I': 'Ri Ma', 'L': 'Ri Ni', 'M': 'Ga Ma', 'N': 'Sa Dha', 'O': 'Sa Ni', 'R': 'Ri Dha', 'S': 'Ga Ni', 'T': 'Ga Ga', 'U': 'Ri Ga', 'B': 'Sa Sa Sa', 'G': 'Sa Sa Ga', 'J': 'Sa Sa Ni', 'K': 'Sa Sa Ri', 'P': 'Sa Sa Ma', 'Q': 'Sa Ri Dha', 'V': 'Sa Sa Dha', 'W': 'Sa Ri Ga', 'X': 'Sa Ri Ni', 'Y': 'Sa Ri Ri', 'Z': 'Sa Ri Ma'}\n",
      "{'A': 'Sa Dha', 'C': 'Ri Ni', 'D': 'Ri Ri', 'E': 'Sa Sa', 'F': 'Ri Ga', 'H': 'Sa Ni', 'I': 'Sa Ri', 'L': 'Ga Ma', 'M': 'Ga Ga', 'N': 'Sa Ma', 'O': 'Ga Ni', 'R': 'Sa Ga', 'S': 'Ga Dha', 'T': 'Ri Dha', 'U': 'Ri Ma', 'B': 'Sa Ri Ni', 'G': 'Sa Sa Dha', 'J': 'Sa Ri Ma', 'K': 'Sa Ri Dha', 'P': 'Sa Ri Ri', 'Q': 'Sa Sa Ga', 'V': 'Sa Sa Ri', 'W': 'Sa Sa Sa', 'X': 'Sa Ri Ga', 'Y': 'Sa Sa Ni', 'Z': 'Sa Sa Ma'}\n"
     ]
    }
   ],
   "source": [
    "with open(\"two_three_four_five_comb.json\",\"r\") as f:\n",
    "    two_three_four_five_comb=json.load(f)\n",
    "all_possible_two_comb = two_three_four_five_comb[0]\n",
    "all_possible_three_comb = two_three_four_five_comb[1]\n",
    "look_up_tables = []\n",
    "two_list = ['A', 'C', 'D', 'E', 'F', 'H', 'I', 'L', 'M', 'N', 'O', 'R', 'S', 'T', 'U']\n",
    "three_list = ['B', 'G', 'J', 'K', 'P', 'Q', 'V', 'W', 'X', 'Y', 'Z']\n",
    "for i in range(10):\n",
    "    look_up_table = {}\n",
    "    for j in range(15):\n",
    "        look_up_table[two_list[j]]=\" \".join(all_possible_two_comb[random_two_list[i][j]])\n",
    "    for j in range(11):\n",
    "        look_up_table[three_list[j]]=\" \".join(all_possible_three_comb[random_three_list[i][j]])\n",
    "    # print(look_up_table)\n",
    "    look_up_tables.append(look_up_table)\n",
    "# now look_up_tables contains 10 look up tables"
   ]
  },
  {
   "cell_type": "markdown",
   "metadata": {},
   "source": [
    "Here's a markdown table for the swara frequency mapping:\n",
    "\n",
    "| Swara | Frequency (Hz) |\n",
    "|---|---|\n",
    "| Sa | 260.29 |\n",
    "| Ri1 | 277.84 |\n",
    "| Ri2 | 293.08 |\n",
    "| Ga1 | 293.08 |\n",
    "| Ri3 | 309.66 |\n",
    "| Ga2 | 309.66 |\n",
    "| Ga3 | 330.28 |\n",
    "| Ma1 | 346.9 |\n",
    "| Ma2 | 372.19 |\n",
    "| Pa | 390.61 |\n",
    "| Dha1 | 414.82 |\n",
    "| Dha2 | 440.0 |\n",
    "| Ni1 | 440.0 |\n",
    "| Dha3 | 462.33 |\n",
    "| Ni2 | 462.33 |\n",
    "| Ni3 | 495.84 |\n"
   ]
  },
  {
   "cell_type": "code",
   "execution_count": null,
   "metadata": {},
   "outputs": [],
   "source": []
  }
 ],
 "metadata": {
  "kernelspec": {
   "display_name": "Python 3",
   "language": "python",
   "name": "python3"
  },
  "language_info": {
   "codemirror_mode": {
    "name": "ipython",
    "version": 3
   },
   "file_extension": ".py",
   "mimetype": "text/x-python",
   "name": "python",
   "nbconvert_exporter": "python",
   "pygments_lexer": "ipython3",
   "version": "3.10.12"
  }
 },
 "nbformat": 4,
 "nbformat_minor": 2
}
